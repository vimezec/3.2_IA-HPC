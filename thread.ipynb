{
 "cells": [
  {
   "cell_type": "markdown",
   "metadata": {},
   "source": [
    "## Multiprocessamento com Python"
   ]
  },
  {
   "cell_type": "code",
   "execution_count": 27,
   "metadata": {},
   "outputs": [],
   "source": [
    "import os\n",
    "\n",
    "\n",
    "from multiprocessing import Process, current_process\n",
    "\n",
    "import numpy as np       "
   ]
  },
  {
   "cell_type": "markdown",
   "metadata": {},
   "source": [
    "## Função que multiplica um valor por 2 (a ser chamada por diferentes threads)"
   ]
  },
  {
   "cell_type": "code",
   "execution_count": 28,
   "metadata": {},
   "outputs": [],
   "source": [
    "def doubler(number):\n",
    "    result = number * 2\n",
    "    proc_name = current_process().name\n",
    "    print('{0} doubled to {1} by: {2}'.format(\n",
    "        number, result, proc_name))\n"
   ]
  },
  {
   "cell_type": "markdown",
   "metadata": {},
   "source": [
    "## Função que cria threads e executa simultaneamente"
   ]
  },
  {
   "cell_type": "code",
   "execution_count": 30,
   "metadata": {},
   "outputs": [
    {
     "name": "stdout",
     "output_type": "stream",
     "text": [
      "5 doubled to 10 by: Process-99\n",
      "10 doubled to 20 by: Process-100\n",
      "15 doubled to 30 by: Process-101\n",
      "20 doubled to 40 by: Process-102\n",
      "25 doubled to 50 by: Process-103\n",
      "3 doubled to 6 by: Test\n"
     ]
    }
   ],
   "source": [
    "numbers = [5, 10, 15, 20, 25]\n",
    "    \n",
    "procs = []\n",
    "\n",
    "# Objeto capaz de Criar um processo que executa a função doubler\n",
    "proc = Process(target=doubler, args=(5,))\n",
    "\n",
    "# Laço para criar os processos de modo independente\n",
    "for index, number in enumerate(numbers):\n",
    "    proc = Process(target=doubler, args=(number,))\n",
    "    procs.append(proc)\n",
    "    proc.start()\n",
    "\n",
    "    \n",
    "proc = Process(target=doubler, name='Test', args=(3,))\n",
    "proc.start()\n",
    "procs.append(proc)\n",
    "    \n",
    "for proc in procs:\n",
    "    proc.join()   "
   ]
  },
  {
   "cell_type": "markdown",
   "metadata": {},
   "source": [
    "Implemente código a seguir em python \n",
    "\n",
    "```\n",
    "import numpy as np\n",
    "\n",
    "X = np.random.rand(5000,5000)\n",
    "Y = np.random.rand(5000,5000)\n",
    "maltmul = np.matmul(X, Y)\n",
    "```\n",
    "\n",
    "* Executar no terminal, variando a quantidade de threads de 1 até 8 (registrando o tempo de execução)\n",
    "\n",
    "\n",
    "* Utilize os comandos a seguir:\n",
    "```\n",
    "export OMP_NUM_THREADS=1 ; time python omp1.py\n",
    "export OMP_NUM_THREADS=2 ; time python omp1.py\n",
    "...\n",
    "export OMP_NUM_THREADS=8 ; time python omp1.py\n",
    "```\n",
    "\n",
    "Houve variação no tempo de execução?\n",
    "\n",
    "\n"
   ]
  }
 ],
 "metadata": {
  "kernelspec": {
   "display_name": "Python 3",
   "language": "python",
   "name": "python3"
  },
  "language_info": {
   "codemirror_mode": {
    "name": "ipython",
    "version": 3
   },
   "file_extension": ".py",
   "mimetype": "text/x-python",
   "name": "python",
   "nbconvert_exporter": "python",
   "pygments_lexer": "ipython3",
   "version": "3.7.7"
  }
 },
 "nbformat": 4,
 "nbformat_minor": 4
}
